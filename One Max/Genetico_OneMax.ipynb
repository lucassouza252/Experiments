{
 "cells": [
  {
   "cell_type": "markdown",
   "metadata": {},
   "source": [
    "# Algoritmo Genético\n",
    "## Problema OneMax\n",
    "### Busca o maior número de ums (1) num gene"
   ]
  },
  {
   "cell_type": "code",
   "execution_count": 11,
   "metadata": {
    "collapsed": true
   },
   "outputs": [],
   "source": [
    "import numpy as np\n",
    "import matplotlib.pyplot as plt"
   ]
  },
  {
   "cell_type": "markdown",
   "metadata": {},
   "source": [
    "#### Inicia as variaveis globais que representam as informações do algoritmo"
   ]
  },
  {
   "cell_type": "code",
   "execution_count": 12,
   "metadata": {
    "collapsed": true
   },
   "outputs": [],
   "source": [
    "tam_genes = 100\n",
    "tam_populacao = 50\n",
    "tam_torneio = 20\n",
    "geracoes = 500\n",
    "prob_mutacao = 0.2\n",
    "prob_cruzamento = 0.7\n",
    "populacao = []"
   ]
  },
  {
   "cell_type": "markdown",
   "metadata": {},
   "source": [
    "### Funções para gerar população, obter score, realizar mutação, realizar cruzamento e obter o melhor indviduo"
   ]
  },
  {
   "cell_type": "code",
   "execution_count": 13,
   "metadata": {
    "collapsed": true
   },
   "outputs": [],
   "source": [
    "def inicia_populacao():\n",
    "    for i in range(tam_populacao):\n",
    "        individuo = []\n",
    "        for j in range(tam_genes):\n",
    "            num = np.random.randint(2)\n",
    "            individuo.append(num)\n",
    "        populacao.append(individuo)"
   ]
  },
  {
   "cell_type": "code",
   "execution_count": 14,
   "metadata": {
    "collapsed": true
   },
   "outputs": [],
   "source": [
    "def obter_pontuacao(indi):\n",
    "    soma = 0\n",
    "    for i in range(tam_genes):\n",
    "        soma += indi[i]\n",
    "    return soma"
   ]
  },
  {
   "cell_type": "code",
   "execution_count": 15,
   "metadata": {
    "collapsed": true
   },
   "outputs": [],
   "source": [
    "def mutacao(indi):\n",
    "    gene = int(np.random.randint(tam_genes))\n",
    "    \n",
    "    if indi[gene] == 0:\n",
    "        indi[gene] = 1\n",
    "    else:\n",
    "        indi[gene] = 0"
   ]
  },
  {
   "cell_type": "code",
   "execution_count": 16,
   "metadata": {
    "collapsed": true
   },
   "outputs": [],
   "source": [
    "def cruzamento(pai1, pai2):\n",
    "    filho = []\n",
    "    ponto = np.random.randint(tam_genes)\n",
    "    \n",
    "    for i in range(ponto):\n",
    "        filho.append(populacao[pai1][i])\n",
    "    for j in range(ponto, tam_genes):\n",
    "        filho.append(populacao[pai2][j])\n",
    "    return filho"
   ]
  },
  {
   "cell_type": "code",
   "execution_count": 17,
   "metadata": {
    "collapsed": true
   },
   "outputs": [],
   "source": [
    "def obter_melhor():\n",
    "    indice_melhor = 0\n",
    "    score_melhor = obter_pontuacao(populacao[0])\n",
    "    \n",
    "    for i in range(1, tam_populacao):\n",
    "        score = obter_pontuacao(populacao[i])\n",
    "        if score > score_melhor:\n",
    "            indice_melhor = i\n",
    "            score_melhor = score\n",
    "    return indice_melhor"
   ]
  },
  {
   "cell_type": "markdown",
   "metadata": {},
   "source": [
    "### Inicia a execução do algoritmo criando a populaçao e passando pelas gerações"
   ]
  },
  {
   "cell_type": "code",
   "execution_count": 18,
   "metadata": {
    "collapsed": true
   },
   "outputs": [],
   "source": [
    "inicia_populacao()\n",
    "geras = []\n",
    "scos = []"
   ]
  },
  {
   "cell_type": "code",
   "execution_count": 19,
   "metadata": {
    "scrolled": true
   },
   "outputs": [
    {
     "name": "stdout",
     "output_type": "stream",
     "text": [
      "Geração:  499\n",
      "Melhor:  [1, 1, 1, 1, 1, 1, 1, 0, 1, 1, 1, 1, 1, 1, 1, 1, 1, 1, 1, 1, 1, 1, 1, 1, 1, 1, 1, 1, 1, 1, 1, 1, 1, 1, 0, 1, 1, 1, 1, 1, 1, 1, 1, 1, 1, 1, 1, 1, 1, 1, 1, 1, 1, 1, 1, 1, 1, 1, 1, 1, 1, 1, 1, 1, 1, 1, 1, 1, 1, 1, 1, 1, 1, 1, 1, 1, 1, 1, 1, 1, 1, 1, 1, 1, 1, 1, 1, 1, 1, 1, 1, 1, 0, 1, 1, 1, 1, 1, 1, 1]\n",
      "Pontuacao:  97\n"
     ]
    }
   ],
   "source": [
    "for i in range(geracoes):\n",
    "    for j in range(tam_torneio):\n",
    "        prob = float(np.random.rand() / np.random.randn() + 1)\n",
    "        \n",
    "        if prob < prob_cruzamento:\n",
    "            pai1 = np.random.randint(tam_populacao)\n",
    "            pai2 = np.random.randint(tam_populacao)\n",
    "            if pai1 == pai2:\n",
    "                pai2 = np.random.randint(tam_populacao)\n",
    "            \n",
    "            filho = cruzamento(pai1, pai2)\n",
    "            prob2 = float(np.random.rand() / np.random.randn() + 1)\n",
    "            \n",
    "            if prob2 < prob_mutacao:\n",
    "                mutacao(filho)\n",
    "            \n",
    "            score_pai = obter_pontuacao(populacao[pai1])\n",
    "            score_filho = obter_pontuacao(filho)\n",
    "            \n",
    "            if score_pai < score_filho:\n",
    "                for k in range(tam_genes - 1):\n",
    "                    populacao[pai1][k] = filho[k]\n",
    "    \n",
    "    ind_melhor = obter_melhor()\n",
    "    sco_melhor = obter_pontuacao(populacao[ind_melhor])\n",
    "    \n",
    "    geras.append(i)\n",
    "    scos.append(sco_melhor)\n",
    "    \n",
    "    if sco_melhor == tam_genes:\n",
    "        break\n",
    "print(\"Geração: \", i)\n",
    "print(\"Melhor: \", populacao[ind_melhor])\n",
    "print(\"Pontuacao: \", sco_melhor)"
   ]
  },
  {
   "cell_type": "code",
   "execution_count": 20,
   "metadata": {},
   "outputs": [
    {
     "data": {
      "image/png": "[encoded data removed]",
      "text/plain": [
       "<matplotlib.figure.Figure at 0x7f9322de8630>"
      ]
     },
     "metadata": {},
     "output_type": "display_data"
    }
   ],
   "source": [
    "plt.plot(geras, scos)\n",
    "plt.xlabel(\"Geração\")\n",
    "plt.ylabel(\"Score\")\n",
    "plt.show()"
   ]
  },
  {
   "cell_type": "code",
   "execution_count": null,
   "metadata": {
    "collapsed": true
   },
   "outputs": [],
   "source": []
  }
 ],
 "metadata": {
  "kernelspec": {
   "display_name": "Python 3",
   "language": "python",
   "name": "python3"
  },
  "language_info": {
   "codemirror_mode": {
    "name": "ipython",
    "version": 3
   },
   "file_extension": ".py",
   "mimetype": "text/x-python",
   "name": "python",
   "nbconvert_exporter": "python",
   "pygments_lexer": "ipython3",
   "version": "3.6.3"
  }
 },
 "nbformat": 4,
 "nbformat_minor": 2
}
