{
 "cells": [
  {
   "cell_type": "markdown",
   "metadata": {},
   "source": [
    "#### A classe Nó, ou node, ela é a base da lista encadeada. As unicas funções dela é armazenar informação e salvar proximo"
   ]
  },
  {
   "cell_type": "code",
   "execution_count": 1,
   "metadata": {
    "collapsed": true
   },
   "outputs": [],
   "source": [
    "# Classe de nó, o construtor dela ja diz que o atribuo prox_node é uma instancia de Node\n",
    "class Node:\n",
    "    \n",
    "    def __init__(self):\n",
    "        self.prox_node = self\n",
    "    \n",
    "    def setElemento(self, elemento):\n",
    "        self.elemento = elemento\n",
    "    \n",
    "    def getElemento(self):\n",
    "        return self.elemento\n",
    "    \n",
    "    def setProximo(self, prox):\n",
    "        self.prox_node = prox\n",
    "    \n",
    "    def getProximo(self):\n",
    "        return self.prox_node"
   ]
  },
  {
   "cell_type": "markdown",
   "metadata": {},
   "source": [
    "#### A classe lista instancia o nó e trabalha em cima dele. A função dela é criar novo elemento, retirar, listar, e caso queira, imprimir.\n",
    "#### Quem deve tratar se esta vazio ou não é a classe que irá usar a lista."
   ]
  },
  {
   "cell_type": "code",
   "execution_count": 23,
   "metadata": {
    "collapsed": true
   },
   "outputs": [],
   "source": [
    "# Classe lista, contem uma instancia de Node(nó), assim que cria objeto dela, o obj aponta pra Null(none).\n",
    "# Quando voce adicona, ela cria um novo nó, e o proximo aponta pra null.\n",
    "class Lista:\n",
    "    \n",
    "    inicio = Node()\n",
    "    \n",
    "    def __init__(self):\n",
    "        self.inicio = None\n",
    "    \n",
    "    def inserir(self, elemento):\n",
    "        nova = Node()\n",
    "        nova.setElemento(elemento)\n",
    "        nova.setProximo(None)\n",
    "        \n",
    "        if self.inicio == None:\n",
    "            self.inicio = nova\n",
    "        else:\n",
    "            aux = Node()\n",
    "            aux = self.inicio\n",
    "            \n",
    "            while aux.getProximo() != None:\n",
    "                aux = aux.getProximo()\n",
    "            aux.setProximo(nova)\n",
    "        \n",
    "    def retirar(self):\n",
    "        if self.inicio != None:\n",
    "            aux = Node()\n",
    "            aux = self.inicio\n",
    "            elemento = aux.getElemento()\n",
    "            self.inicio = aux.getProximo()\n",
    "            return elemento\n",
    "    \n",
    "    def listar(self):\n",
    "        if self.inicio == None:\n",
    "            print('Lista Vazia!')\n",
    "        else:\n",
    "            aux = Node()\n",
    "            aux = self.inicio\n",
    "            no = []\n",
    "            while aux != None:\n",
    "                no.append(aux.getElemento())\n",
    "                aux = aux.getProximo()\n",
    "        return no\n",
    "        \n",
    "    def isEmpty(self):\n",
    "        if self.inicio == None:\n",
    "            return True\n",
    "        else:\n",
    "            return False"
   ]
  },
  {
   "cell_type": "markdown",
   "metadata": {},
   "source": [
    "#### Classe casa com informação de tamanho e preço, apenas para exemplo"
   ]
  },
  {
   "cell_type": "code",
   "execution_count": 24,
   "metadata": {
    "collapsed": true
   },
   "outputs": [],
   "source": [
    "class Casa:\n",
    "    \n",
    "    def __init__(self, tam, preco):\n",
    "        self.tamanho = tam\n",
    "        self.preco = preco\n",
    "    \n",
    "    def mostrar_info(self):\n",
    "        print(\"Tamanho: \", self.tamanho)\n",
    "        print(\"Preço: \", self.preco)\n"
   ]
  },
  {
   "cell_type": "markdown",
   "metadata": {},
   "source": [
    "#### 3 instancias da classe casa, insere as 3 na lista"
   ]
  },
  {
   "cell_type": "code",
   "execution_count": 25,
   "metadata": {
    "collapsed": true
   },
   "outputs": [],
   "source": [
    "casa1 = Casa(400, 3200.00)\n",
    "casa2 = Casa(350, 2500.00)\n",
    "casa3 = Casa(450, 4000.00)\n",
    "\n",
    "lis = Lista()\n",
    "lis.inserir(casa1)\n",
    "lis.inserir(casa2)\n",
    "lis.inserir(casa3)"
   ]
  },
  {
   "cell_type": "markdown",
   "metadata": {},
   "source": [
    "#### Cria um vetor pra pegar tudo que esta armazenado na lista com o metodo listar"
   ]
  },
  {
   "cell_type": "code",
   "execution_count": 26,
   "metadata": {},
   "outputs": [],
   "source": [
    "vetor = []\n",
    "vetor = lis.listar()"
   ]
  },
  {
   "cell_type": "markdown",
   "metadata": {},
   "source": [
    "#### Cada elemento do vetor será uma instancia de Casa, pois o que foi armazenado na lista foi a instancia, e a lista retornou tudo com o metodo listar()"
   ]
  },
  {
   "cell_type": "code",
   "execution_count": 28,
   "metadata": {},
   "outputs": [
    {
     "name": "stdout",
     "output_type": "stream",
     "text": [
      "Tamanho:  350\n",
      "Preço:  2500.0\n"
     ]
    }
   ],
   "source": [
    "vetor[1].mostrar_info()"
   ]
  },
  {
   "cell_type": "code",
   "execution_count": 29,
   "metadata": {},
   "outputs": [
    {
     "data": {
      "text/plain": [
       "3"
      ]
     },
     "execution_count": 29,
     "metadata": {},
     "output_type": "execute_result"
    }
   ],
   "source": [
    "len(vetor)"
   ]
  },
  {
   "cell_type": "markdown",
   "metadata": {},
   "source": [
    "#### Retirar() retira o ultimo elemento da lista, mas pode implementar para tirar de qualquer lugar."
   ]
  },
  {
   "cell_type": "code",
   "execution_count": 30,
   "metadata": {},
   "outputs": [
    {
     "data": {
      "text/plain": [
       "<__main__.Casa at 0x7fb138589f98>"
      ]
     },
     "execution_count": 30,
     "metadata": {},
     "output_type": "execute_result"
    }
   ],
   "source": [
    "lis.retirar()"
   ]
  },
  {
   "cell_type": "code",
   "execution_count": 32,
   "metadata": {},
   "outputs": [
    {
     "data": {
      "text/plain": [
       "2"
      ]
     },
     "execution_count": 32,
     "metadata": {},
     "output_type": "execute_result"
    }
   ],
   "source": [
    "vetor = lis.listar()\n",
    "len(vetor)"
   ]
  }
 ],
 "metadata": {
  "kernelspec": {
   "display_name": "Python 3",
   "language": "python",
   "name": "python3"
  },
  "language_info": {
   "codemirror_mode": {
    "name": "ipython",
    "version": 3
   },
   "file_extension": ".py",
   "mimetype": "text/x-python",
   "name": "python",
   "nbconvert_exporter": "python",
   "pygments_lexer": "ipython3",
   "version": "3.6.3"
  }
 },
 "nbformat": 4,
 "nbformat_minor": 2
}
