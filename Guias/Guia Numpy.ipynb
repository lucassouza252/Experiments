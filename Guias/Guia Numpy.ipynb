{
 "cells": [
  {
   "cell_type": "code",
   "execution_count": 1,
   "metadata": {
    "collapsed": true
   },
   "outputs": [],
   "source": [
    "#Importa a biblioteca com um alias chamado 'np'\n",
    "import numpy as np"
   ]
  },
  {
   "cell_type": "markdown",
   "metadata": {},
   "source": [
    "## Vetor n-dimensional Numpy\n",
    "##### É criado a partir de uma lista python, transformado em um vetor numpy.\n",
    "##### Array unidimensional é semelhante a uma matriz coluna.\n",
    "##### Matrizes são vetores multidimensionais."
   ]
  },
  {
   "cell_type": "code",
   "execution_count": 2,
   "metadata": {},
   "outputs": [
    {
     "data": {
      "text/plain": [
       "numpy.ndarray"
      ]
     },
     "execution_count": 2,
     "metadata": {},
     "output_type": "execute_result"
    }
   ],
   "source": [
    "# Cria um vetor a partir de um array python\n",
    "vetor = np.array([1, 2, 3, 4, 5, 6, 7])\n",
    "\n",
    "type(vetor)"
   ]
  },
  {
   "cell_type": "code",
   "execution_count": 3,
   "metadata": {},
   "outputs": [
    {
     "data": {
      "text/plain": [
       "numpy.ndarray"
      ]
     },
     "execution_count": 3,
     "metadata": {},
     "output_type": "execute_result"
    }
   ],
   "source": [
    "# Cria um array numpy a partir de uma lista python previamente criada\n",
    "lista = [0, 1, 2, 3, 4, 5, 6]\n",
    "vetor_da_lista = np.array(lista)\n",
    "\n",
    "type(vetor_da_lista)"
   ]
  },
  {
   "cell_type": "code",
   "execution_count": 4,
   "metadata": {},
   "outputs": [
    {
     "name": "stdout",
     "output_type": "stream",
     "text": [
      "[1 2 3 4 5]\n"
     ]
    },
    {
     "data": {
      "text/plain": [
       "numpy.ndarray"
      ]
     },
     "execution_count": 4,
     "metadata": {},
     "output_type": "execute_result"
    }
   ],
   "source": [
    "# Cria um array numpy automaticamente, com os argumentos: (Inicio, Fim, Intervalo)\n",
    "vetor_auto = np.arange(1, 6, 1)\n",
    "\n",
    "print(vetor_auto)\n",
    "type(vetor_auto)"
   ]
  },
  {
   "cell_type": "code",
   "execution_count": 5,
   "metadata": {
    "scrolled": true
   },
   "outputs": [
    {
     "name": "stdout",
     "output_type": "stream",
     "text": [
      "(7,)\n",
      "(7,)\n",
      "(5,)\n"
     ]
    }
   ],
   "source": [
    "# Função que mostra as dimensões do array numpy (linhas, colunas)\n",
    "print(vetor.shape)\n",
    "print(vetor_da_lista.shape)\n",
    "print(vetor_auto.shape)"
   ]
  },
  {
   "cell_type": "code",
   "execution_count": 6,
   "metadata": {},
   "outputs": [
    {
     "data": {
      "text/plain": [
       "28"
      ]
     },
     "execution_count": 6,
     "metadata": {},
     "output_type": "execute_result"
    }
   ],
   "source": [
    "# A função sum(array) soma os elementos do array.\n",
    "np.sum(vetor)"
   ]
  },
  {
   "cell_type": "code",
   "execution_count": 7,
   "metadata": {},
   "outputs": [
    {
     "name": "stdout",
     "output_type": "stream",
     "text": [
      "1\n",
      "7\n"
     ]
    }
   ],
   "source": [
    "# Funçoes amin e amax retornam o minimo e o maximo do array respectivamente.\n",
    "print(np.amin(vetor))\n",
    "print(np.amax(vetor))"
   ]
  },
  {
   "cell_type": "code",
   "execution_count": 8,
   "metadata": {},
   "outputs": [
    {
     "name": "stdout",
     "output_type": "stream",
     "text": [
      "0\n",
      "6\n"
     ]
    }
   ],
   "source": [
    "# Funções argmin e argmax retornam o indice do minimo e maximo elementos respectivamente.\n",
    "print(np.argmin(vetor))\n",
    "print(np.argmax(vetor))"
   ]
  },
  {
   "cell_type": "code",
   "execution_count": 9,
   "metadata": {},
   "outputs": [
    {
     "name": "stdout",
     "output_type": "stream",
     "text": [
      "7\n"
     ]
    }
   ],
   "source": [
    "# Retorna o numero de elementos no array.\n",
    "print(vetor.size)"
   ]
  },
  {
   "cell_type": "code",
   "execution_count": 10,
   "metadata": {},
   "outputs": [
    {
     "name": "stdout",
     "output_type": "stream",
     "text": [
      "1\n"
     ]
    }
   ],
   "source": [
    "# Retorna o número de dimensões do array.\n",
    "print(vetor.ndim)"
   ]
  },
  {
   "cell_type": "markdown",
   "metadata": {},
   "source": [
    "### Matrizes\n",
    "#### Vetores multidimensionais numpy."
   ]
  },
  {
   "cell_type": "code",
   "execution_count": 11,
   "metadata": {
    "collapsed": true
   },
   "outputs": [],
   "source": [
    "# Função que cria uma matriz vazia (dimensões, tipo).\n",
    "vazia = np.empty([2,2], dtype=int)"
   ]
  },
  {
   "cell_type": "code",
   "execution_count": 12,
   "metadata": {},
   "outputs": [
    {
     "name": "stdout",
     "output_type": "stream",
     "text": [
      "[[0 0 0]\n",
      " [0 0 0]\n",
      " [0 0 0]]\n"
     ]
    }
   ],
   "source": [
    "# Função que cria um array com apenas elementos zeros (dimensões, tipo).\n",
    "zero = np.zeros([3, 3], dtype=int)\n",
    "print(zero)"
   ]
  },
  {
   "cell_type": "code",
   "execution_count": 13,
   "metadata": {},
   "outputs": [
    {
     "name": "stdout",
     "output_type": "stream",
     "text": [
      "[[1 1 1]\n",
      " [1 1 1]\n",
      " [1 1 1]]\n"
     ]
    }
   ],
   "source": [
    "# Função que cria um array com apenas elementos um (dimensões, tipo).\n",
    "ums = np.ones([3,3], dtype=int)\n",
    "print(ums)"
   ]
  },
  {
   "cell_type": "code",
   "execution_count": 14,
   "metadata": {},
   "outputs": [
    {
     "name": "stdout",
     "output_type": "stream",
     "text": [
      "[[1 0 0]\n",
      " [0 1 0]\n",
      " [0 0 1]]\n"
     ]
    }
   ],
   "source": [
    "# Função que cria uma matriz identidade (dimensão, tipo).\n",
    "identidade = np.eye(3, dtype=int)\n",
    "print(identidade)"
   ]
  },
  {
   "cell_type": "code",
   "execution_count": 15,
   "metadata": {},
   "outputs": [
    {
     "name": "stdout",
     "output_type": "stream",
     "text": [
      "[[1 0 0]\n",
      " [0 2 0]\n",
      " [0 0 3]]\n"
     ]
    }
   ],
   "source": [
    "# Função que cria uma matriz diagonal com os elementos escolhidos previamente em um array.\n",
    "vet = np.array([1, 2, 3])\n",
    "diagonal = np.diag(vet)\n",
    "\n",
    "print(diagonal)"
   ]
  },
  {
   "cell_type": "code",
   "execution_count": 16,
   "metadata": {},
   "outputs": [
    {
     "name": "stdout",
     "output_type": "stream",
     "text": [
      "4\n",
      "4\n",
      "4\n"
     ]
    }
   ],
   "source": [
    "# Função que se utilizada com vetores de 1 dimensão retorna o produto interno.\n",
    "# Função que se utilziada com vetores de mais de uma dimensão, realiza multiplicação de matrizes.\n",
    "# Segue as propriedades da Algebra Linear sobre multiplicação de Matrizes.\n",
    "x = np.array([1, 2])\n",
    "y = np.array([2, 1])\n",
    "\n",
    "z1 = np.dot(x, y)\n",
    "\n",
    "# São semelhantes em alguns aspectos a função dot.\n",
    "z2 = np.inner(x, y)\n",
    "z3 = np.matmul(x, y)\n",
    "print(z1)\n",
    "print(z2)\n",
    "print(z3)"
   ]
  },
  {
   "cell_type": "code",
   "execution_count": 17,
   "metadata": {},
   "outputs": [
    {
     "data": {
      "text/plain": [
       "array([[1, 4, 7],\n",
       "       [2, 5, 8],\n",
       "       [3, 6, 9]])"
      ]
     },
     "execution_count": 17,
     "metadata": {},
     "output_type": "execute_result"
    }
   ],
   "source": [
    "# Função que retorna a transposta de uma matriz.\n",
    "matriz = np.array([[1, 2, 3], [4, 5, 6], [7, 8, 9]])\n",
    "matriz.transpose()"
   ]
  },
  {
   "cell_type": "code",
   "execution_count": 18,
   "metadata": {},
   "outputs": [
    {
     "data": {
      "text/plain": [
       "matrix([[1, 2],\n",
       "        [3, 4]])"
      ]
     },
     "execution_count": 18,
     "metadata": {},
     "output_type": "execute_result"
    }
   ],
   "source": [
    "# Função que cria uma matriz a partir de uma lista de vetores python ou numpy.\n",
    "matriz_numpy = np.matrix([[1, 2], [3, 4]])\n",
    "matriz_numpy"
   ]
  },
  {
   "cell_type": "code",
   "execution_count": 19,
   "metadata": {},
   "outputs": [
    {
     "data": {
      "text/plain": [
       "matrix([[-2. ,  1. ],\n",
       "        [ 1.5, -0.5]])"
      ]
     },
     "execution_count": 19,
     "metadata": {},
     "output_type": "execute_result"
    }
   ],
   "source": [
    "# Inverso de uma  matriz.\n",
    "matriz_numpy.getI()"
   ]
  },
  {
   "cell_type": "markdown",
   "metadata": {},
   "source": [
    "#### Gerando números e arrays numpy."
   ]
  },
  {
   "cell_type": "code",
   "execution_count": 20,
   "metadata": {},
   "outputs": [
    {
     "data": {
      "text/plain": [
       "array([ 2.  ,  2.25,  2.5 ,  2.75,  3.  ])"
      ]
     },
     "execution_count": 20,
     "metadata": {},
     "output_type": "execute_result"
    }
   ],
   "source": [
    "# Função que gera um intervalo de números (Inicio, Fim, quantidade de elementos)\n",
    "lin = np.linspace(2, 3, num=5)\n",
    "lin"
   ]
  },
  {
   "cell_type": "code",
   "execution_count": 21,
   "metadata": {},
   "outputs": [
    {
     "data": {
      "text/plain": [
       "array([[ 0.70029762,  0.31012917],\n",
       "       [ 0.27555232,  0.75095099]])"
      ]
     },
     "execution_count": 21,
     "metadata": {},
     "output_type": "execute_result"
    }
   ],
   "source": [
    "# Função que gera numeros aleatorios em ponto flutuante (Dimensões).\n",
    "aleatorio_float = np.random.rand(2,2)\n",
    "aleatorio_float"
   ]
  },
  {
   "cell_type": "code",
   "execution_count": 22,
   "metadata": {},
   "outputs": [
    {
     "data": {
      "text/plain": [
       "array([[ 1.6306147 ,  0.30110912],\n",
       "       [-2.09191011, -0.13287345]])"
      ]
     },
     "execution_count": 22,
     "metadata": {},
     "output_type": "execute_result"
    }
   ],
   "source": [
    "# Função que gera numeros aleatorios da distribuição normal (Dimensões).\n",
    "aleatorio_normal = np.random.randn(2,2)\n",
    "aleatorio_normal"
   ]
  },
  {
   "cell_type": "code",
   "execution_count": 23,
   "metadata": {},
   "outputs": [
    {
     "data": {
      "text/plain": [
       "array([8, 7, 8, 0, 6])"
      ]
     },
     "execution_count": 23,
     "metadata": {},
     "output_type": "execute_result"
    }
   ],
   "source": [
    "# Função que gera numeros aleatorios inteiros (Inicio incluso, Fim excluso, size = quantidade(tupla ou numero))\n",
    "aleatorio_inteiro = np.random.randint(0, 10, size=5)\n",
    "aleatorio_inteiro"
   ]
  },
  {
   "cell_type": "code",
   "execution_count": 24,
   "metadata": {},
   "outputs": [
    {
     "data": {
      "text/plain": [
       "array([[ 0.40377279,  0.4127262 ,  0.70332935],\n",
       "       [ 0.35248163,  0.01790989,  0.95942042],\n",
       "       [ 0.70421121,  0.73660573,  0.14489312],\n",
       "       [ 0.12225374,  0.51271771,  0.94550249],\n",
       "       [ 0.66187439,  0.36962679,  0.35603218]])"
      ]
     },
     "execution_count": 24,
     "metadata": {},
     "output_type": "execute_result"
    }
   ],
   "source": [
    "# Função que gera numeros aleatorios float num intervalo entre 0 e 1 (quantidade, pode ser tupla).\n",
    "aleatorio_float_sample = np.random.random_sample((5,3))\n",
    "aleatorio_float_sample                                                "
   ]
  }
 ],
 "metadata": {
  "kernelspec": {
   "display_name": "Python 3",
   "language": "python",
   "name": "python3"
  },
  "language_info": {
   "codemirror_mode": {
    "name": "ipython",
    "version": 3
   },
   "file_extension": ".py",
   "mimetype": "text/x-python",
   "name": "python",
   "nbconvert_exporter": "python",
   "pygments_lexer": "ipython3",
   "version": "3.6.3"
  }
 },
 "nbformat": 4,
 "nbformat_minor": 2
}
